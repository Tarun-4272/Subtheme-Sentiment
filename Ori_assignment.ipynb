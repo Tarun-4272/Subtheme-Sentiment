{
  "nbformat": 4,
  "nbformat_minor": 0,
  "metadata": {
    "colab": {
      "provenance": [],
      "gpuType": "T4"
    },
    "kernelspec": {
      "name": "python3",
      "display_name": "Python 3"
    },
    "language_info": {
      "name": "python"
    },
    "accelerator": "GPU"
  },
  "cells": [
    {
      "cell_type": "markdown",
      "source": [
        "# **Import Necessary Libraries**\n",
        "\n",
        "\n",
        "\n"
      ],
      "metadata": {
        "id": "OS7gD_V3AoOP"
      }
    },
    {
      "cell_type": "code",
      "source": [
        "import pandas as pd\n",
        "import spacy\n",
        "from textblob import TextBlob\n",
        "from spacy.lang.en.stop_words import STOP_WORDS\n",
        "from vaderSentiment.vaderSentiment import SentimentIntensityAnalyzer\n",
        "import string\n",
        "! pip install vaderSentiment"
      ],
      "metadata": {
        "id": "ev6lt67_WxvR"
      },
      "execution_count": 1,
      "outputs": []
    },
    {
      "cell_type": "markdown",
      "source": [
        "# **Loading Dataset**"
      ],
      "metadata": {
        "id": "Q_V7hySIBGWP"
      }
    },
    {
      "cell_type": "code",
      "source": [
        "df = pd.read_csv('Evaluation-dataset.csv', header=None)\n",
        "\n",
        "column_names = [f'col{i}' for i in range(1, 16)]\n",
        "df.columns = column_names\n",
        "\n",
        "print(df.head())\n",
        "print(df.columns)"
      ],
      "metadata": {
        "colab": {
          "base_uri": "https://localhost:8080/"
        },
        "id": "RgppQ2tEX5Py",
        "outputId": "7bfaefa0-1648-407d-deae-b11a4deac6b0"
      },
      "execution_count": 2,
      "outputs": [
        {
          "output_type": "stream",
          "name": "stdout",
          "text": [
            "                                                col1  \\\n",
            "0  Tires where delivered to the garage of my choi...   \n",
            "1  Easy Tyre Selection Process, Competitive Prici...   \n",
            "2         Very easy to use and good value for money.   \n",
            "3              Really easy and convenient to arrange   \n",
            "4  It was so easy to select tyre sizes and arrang...   \n",
            "\n",
            "                       col2                      col3  \\\n",
            "0   garage service positive  ease of booking positive   \n",
            "1   garage service positive  value for money positive   \n",
            "2  value for money positive                       NaN   \n",
            "3  ease of booking positive                       NaN   \n",
            "4         location positive  value for money positive   \n",
            "\n",
            "                       col4 col5 col6 col7 col8 col9 col10 col11 col12 col13  \\\n",
            "0                       NaN  NaN  NaN  NaN  NaN  NaN   NaN   NaN   NaN   NaN   \n",
            "1                       NaN  NaN  NaN  NaN  NaN  NaN   NaN   NaN   NaN   NaN   \n",
            "2                       NaN  NaN  NaN  NaN  NaN  NaN   NaN   NaN   NaN   NaN   \n",
            "3                       NaN  NaN  NaN  NaN  NaN  NaN   NaN   NaN   NaN   NaN   \n",
            "4  ease of booking positive  NaN  NaN  NaN  NaN  NaN   NaN   NaN   NaN   NaN   \n",
            "\n",
            "  col14 col15  \n",
            "0   NaN   NaN  \n",
            "1   NaN   NaN  \n",
            "2   NaN   NaN  \n",
            "3   NaN   NaN  \n",
            "4   NaN   NaN  \n",
            "Index(['col1', 'col2', 'col3', 'col4', 'col5', 'col6', 'col7', 'col8', 'col9',\n",
            "       'col10', 'col11', 'col12', 'col13', 'col14', 'col15'],\n",
            "      dtype='object')\n"
          ]
        }
      ]
    },
    {
      "cell_type": "code",
      "source": [
        "df.info()"
      ],
      "metadata": {
        "colab": {
          "base_uri": "https://localhost:8080/"
        },
        "id": "Fzfst8CvYG3B",
        "outputId": "77e14910-a242-4ad4-e091-223ef995f833"
      },
      "execution_count": 3,
      "outputs": [
        {
          "output_type": "stream",
          "name": "stdout",
          "text": [
            "<class 'pandas.core.frame.DataFrame'>\n",
            "RangeIndex: 10132 entries, 0 to 10131\n",
            "Data columns (total 15 columns):\n",
            " #   Column  Non-Null Count  Dtype \n",
            "---  ------  --------------  ----- \n",
            " 0   col1    10132 non-null  object\n",
            " 1   col2    8129 non-null   object\n",
            " 2   col3    4239 non-null   object\n",
            " 3   col4    1538 non-null   object\n",
            " 4   col5    445 non-null    object\n",
            " 5   col6    128 non-null    object\n",
            " 6   col7    36 non-null     object\n",
            " 7   col8    13 non-null     object\n",
            " 8   col9    8 non-null      object\n",
            " 9   col10   4 non-null      object\n",
            " 10  col11   1 non-null      object\n",
            " 11  col12   1 non-null      object\n",
            " 12  col13   1 non-null      object\n",
            " 13  col14   1 non-null      object\n",
            " 14  col15   1 non-null      object\n",
            "dtypes: object(15)\n",
            "memory usage: 1.2+ MB\n"
          ]
        }
      ]
    },
    {
      "cell_type": "code",
      "source": [
        "pd.set_option('display.max_colwidth', None)\n",
        "df['col1'].head()"
      ],
      "metadata": {
        "colab": {
          "base_uri": "https://localhost:8080/"
        },
        "id": "gIpiCFNrdYIH",
        "outputId": "30374b96-15a6-46eb-c0a3-3f6a87db4190"
      },
      "execution_count": 4,
      "outputs": [
        {
          "output_type": "execute_result",
          "data": {
            "text/plain": [
              "0    Tires where delivered to the garage of my choice,the garage notified me when they had been delivered. A day and time was arranged with the garage and I went and had them fitted,a Hassel free experience.\n",
              "1                                                                                                                                Easy Tyre Selection Process, Competitive Pricing and Excellent Fitting Service\n",
              "2                                                                                                                                                                    Very easy to use and good value for money.\n",
              "3                                                                                                                                                                         Really easy and convenient to arrange\n",
              "4                                                                                                                    It was so easy to select tyre sizes and arrange local fitting. The prices were competitive\n",
              "Name: col1, dtype: object"
            ]
          },
          "metadata": {},
          "execution_count": 4
        }
      ]
    },
    {
      "cell_type": "code",
      "source": [
        "df.rename(columns={'col1': 'review_text'},  inplace=True)"
      ],
      "metadata": {
        "id": "2cTPR576fWo3"
      },
      "execution_count": 5,
      "outputs": []
    },
    {
      "cell_type": "code",
      "source": [
        "df.columns"
      ],
      "metadata": {
        "colab": {
          "base_uri": "https://localhost:8080/"
        },
        "id": "M-s0VG_shC3m",
        "outputId": "00e8a276-2a76-4a7f-d035-2e9f88aca3c5"
      },
      "execution_count": 6,
      "outputs": [
        {
          "output_type": "execute_result",
          "data": {
            "text/plain": [
              "Index(['review_text', 'col2', 'col3', 'col4', 'col5', 'col6', 'col7', 'col8',\n",
              "       'col9', 'col10', 'col11', 'col12', 'col13', 'col14', 'col15'],\n",
              "      dtype='object')"
            ]
          },
          "metadata": {},
          "execution_count": 6
        }
      ]
    },
    {
      "cell_type": "markdown",
      "source": [
        "# **Preprocessing Text Data**\n"
      ],
      "metadata": {
        "id": "bUU4q7AUC4ax"
      }
    },
    {
      "cell_type": "code",
      "source": [
        "nlp = spacy.load(\"en_core_web_sm\")\n",
        "\n",
        "def preprocess_text(text):\n",
        "    text = text.lower()\n",
        "    text = text.translate(str.maketrans('', '', string.punctuation))\n",
        "    doc = nlp(text)\n",
        "    tokens = [token.lemma_ for token in doc if token.text not in STOP_WORDS]\n",
        "    return ' '.join(tokens)\n",
        "\n",
        "df['review_text'] = df['review_text'].apply(preprocess_text)\n",
        "\n",
        "print(df['review_text'].head())"
      ],
      "metadata": {
        "colab": {
          "base_uri": "https://localhost:8080/"
        },
        "id": "A8sGpOU8hFjT",
        "outputId": "82bf9260-b0de-452d-dce1-6a11b91857e9"
      },
      "execution_count": 7,
      "outputs": [
        {
          "output_type": "stream",
          "name": "stdout",
          "text": [
            "0    tire deliver garage choicethe garage notify deliver day time arrange garage go fitteda hassel free experience\n",
            "1                                        easy tyre selection process competitive pricing excellent fitting service\n",
            "2                                                                                        easy use good value money\n",
            "3                                                                                          easy convenient arrange\n",
            "4                                                        easy select tyre size arrange local fit price competitive\n",
            "Name: review_text, dtype: object\n"
          ]
        }
      ]
    },
    {
      "cell_type": "markdown",
      "source": [
        "**Loading spaCy Model**: The code initializes an instance of the English language model provided by spaCy (en_core_web_sm).\n",
        "\n",
        "**Text Preprocessing:**  \n",
        "-  The preprocess_text function is defined to preprocess the input text.\n",
        "- It converts the text to lowercase using text.lower().\n",
        "- It removes punctuation from the text using text.translate(str.maketrans('', '', string.punctuation)).\n",
        "- It processes the text with spaCy's NLP pipeline to tokenize and lemmatize the text.\n",
        "- It filters out stop words (common words that usually don't carry much meaning) from the tokens.\n",
        "\n",
        "**Applying Preprocessing to DataFrame**: The preprocess_text function is applied to each element in the 'review_text' column of the DataFrame df.\n",
        "\n",
        "**Printing Preprocessed Data**: The preprocessed text data from the 'review_text' column is printed using print(df['review_text'].head()), displaying the first few entries after preprocessing.\n",
        "\n",
        "\n",
        "\n",
        "\n",
        "\n",
        "\n",
        "\n"
      ],
      "metadata": {
        "id": "GSiPv2ypDHZM"
      }
    },
    {
      "cell_type": "markdown",
      "source": [
        "# **Identifying Subthemes in Text Data**"
      ],
      "metadata": {
        "id": "N7rK9W0IEO8V"
      }
    },
    {
      "cell_type": "code",
      "source": [
        "def identify_subthemes(text):\n",
        "    doc = nlp(text)\n",
        "    subthemes = set()\n",
        "    for ent in doc.ents:\n",
        "        subthemes.add(ent.text)\n",
        "    for chunk in doc.noun_chunks:\n",
        "        subthemes.add(chunk.text)\n",
        "    return list(subthemes)\n",
        "\n",
        "df['identified_subthemes'] = df['review_text'].apply(identify_subthemes)\n",
        "\n",
        "print(df[['review_text', 'identified_subthemes']].head())\n"
      ],
      "metadata": {
        "colab": {
          "base_uri": "https://localhost:8080/"
        },
        "id": "QiWsquSHiKSI",
        "outputId": "91ef240f-edf4-4f34-9340-a9d14dee9616"
      },
      "execution_count": 8,
      "outputs": [
        {
          "output_type": "stream",
          "name": "stdout",
          "text": [
            "                                                                                                     review_text  \\\n",
            "0  tire deliver garage choicethe garage notify deliver day time arrange garage go fitteda hassel free experience   \n",
            "1                                      easy tyre selection process competitive pricing excellent fitting service   \n",
            "2                                                                                      easy use good value money   \n",
            "3                                                                                        easy convenient arrange   \n",
            "4                                                      easy select tyre size arrange local fit price competitive   \n",
            "\n",
            "                                                                                            identified_subthemes  \n",
            "0  [tire deliver garage choicethe garage notify deliver day time arrange garage, fitteda hassel free experience]  \n",
            "1                                                                     [competitive pricing, easy tyre selection]  \n",
            "2                                                                                             [good value money]  \n",
            "3                                                                                      [easy convenient arrange]  \n",
            "4                                                                [easy select tyre size arrange local fit price]  \n"
          ]
        }
      ]
    },
    {
      "cell_type": "markdown",
      "source": [
        "**Defining Subtheme Identification Function**:\n",
        "\n",
        "- The identify_subthemes function is defined to identify subthemes within the input text.\n",
        "- It processes the text using spaCy's NLP pipeline (nlp).\n",
        "- It iterates through the entities (ent) and noun chunks (chunk) in the processed document (doc).\n",
        "- For each entity and noun chunk encountered, it adds the text to the set of subthemes.\n",
        "- Finally, it converts the set of subthemes into a list and returns it.\n",
        "\n",
        "**Applying Subtheme Identification to DataFrame**:\n",
        "\n",
        "- The identify_subthemes function is applied to each element in the 'review_text' column of the DataFrame df.\n",
        "- The identified subthemes are stored in a new column named 'identified_subthemes' in the DataFrame.\n",
        "\n",
        "**Printing Preprocessed Data with Identified Subthemes**:\n",
        "\n",
        "- The DataFrame columns 'review_text' and 'identified_subthemes' are printed using print(df[['review_text', 'identified_subthemes']].head()), displaying the preprocessed text data along with the identified subthemes for the first few entries.\n",
        "\n",
        "\n",
        "\n",
        "\n",
        "\n",
        "\n"
      ],
      "metadata": {
        "id": "z4u60Qp0EaHY"
      }
    },
    {
      "cell_type": "markdown",
      "source": [
        "# **Analyzing Sentiment using VADER**"
      ],
      "metadata": {
        "id": "3-yZM4vFFDzi"
      }
    },
    {
      "cell_type": "code",
      "source": [
        "analyzer = SentimentIntensityAnalyzer()\n",
        "\n",
        "def analyze_sentiment_vader(text):\n",
        "    vs = analyzer.polarity_scores(text)\n",
        "    if vs['compound'] > 0.05:\n",
        "        return 'positive'\n",
        "    elif vs['compound'] < -0.05:\n",
        "        return 'negative'\n",
        "    else:\n",
        "        return 'neutral'\n",
        "\n",
        "def get_subtheme_sentiments(subthemes):\n",
        "    return [(subtheme, analyze_sentiment_vader(subtheme)) for subtheme in subthemes]\n",
        "\n",
        "df['subtheme_sentiments_pred'] = df['identified_subthemes'].apply(get_subtheme_sentiments)\n",
        "\n",
        "print(df[['review_text', 'subtheme_sentiments_pred']].head())\n",
        "\n"
      ],
      "metadata": {
        "colab": {
          "base_uri": "https://localhost:8080/"
        },
        "id": "2gnsV9DGqUl0",
        "outputId": "cc09e5fa-3ab1-444c-b023-e349ea0995c4"
      },
      "execution_count": 11,
      "outputs": [
        {
          "output_type": "stream",
          "name": "stdout",
          "text": [
            "                                                                                                     review_text  \\\n",
            "0  tire deliver garage choicethe garage notify deliver day time arrange garage go fitteda hassel free experience   \n",
            "1                                      easy tyre selection process competitive pricing excellent fitting service   \n",
            "2                                                                                      easy use good value money   \n",
            "3                                                                                        easy convenient arrange   \n",
            "4                                                      easy select tyre size arrange local fit price competitive   \n",
            "\n",
            "                                                                                                               subtheme_sentiments_pred  \n",
            "0  [(tire deliver garage choicethe garage notify deliver day time arrange garage, neutral), (fitteda hassel free experience, positive)]  \n",
            "1                                                                    [(competitive pricing, positive), (easy tyre selection, positive)]  \n",
            "2                                                                                                        [(good value money, positive)]  \n",
            "3                                                                                                 [(easy convenient arrange, positive)]  \n",
            "4                                                                           [(easy select tyre size arrange local fit price, positive)]  \n"
          ]
        }
      ]
    },
    {
      "cell_type": "markdown",
      "source": [
        "**Initializing Sentiment Analyzer**:\n",
        "- The SentimentIntensityAnalyzer from the nltk.sentiment.vader module is initialized as analyzer.\n",
        "\n",
        "**Defining Sentiment Analysis Function**:\n",
        "\n",
        "- The analyze_sentiment_vader function is defined to analyze the sentiment of the input text using VADER.\n",
        "- It calculates the polarity scores for the text using analyzer.polarity_scores(text).\n",
        "- Based on the compound score (vs['compound']), it classifies the sentiment as 'positive', 'negative', or 'neutral'.\n",
        "\n",
        "**Defining Subtheme Sentiment Analysis Function**:\n",
        "\n",
        "- The get_subtheme_sentiments function is defined to analyze the sentiment of a list of subthemes.\n",
        "- It applies the analyze_sentiment_vader function to each subtheme in the input list and returns a list of tuples containing the subtheme and its corresponding sentiment.\n",
        "\n",
        "**Applying Subtheme Sentiment Analysis to DataFrame**:\n",
        "\n",
        "- The get_subtheme_sentiments function is applied to each element in the 'identified_subthemes' column of the DataFrame df.\n",
        "- The subthemes along with their predicted sentiments are stored in a new column named 'subtheme_sentiments_pred' in the DataFrame.\n",
        "\n",
        "**Printing Preprocessed Data with Subtheme Sentiments**:\n",
        "\n",
        "- The DataFrame columns 'review_text' and 'subtheme_sentiments_pred' printed print(df[['review_text','subtheme_sentiments_pred']].head()), displaying the preprocessed text data along with the predicted sentiments for the identified subthemes for the first few entries.\n",
        "\n",
        "\n",
        "\n",
        "\n",
        "\n",
        "\n",
        "\n"
      ],
      "metadata": {
        "id": "YoBBnsmgFYVt"
      }
    },
    {
      "cell_type": "code",
      "source": [
        "df['review_text'][1]"
      ],
      "metadata": {
        "colab": {
          "base_uri": "https://localhost:8080/",
          "height": 35
        },
        "id": "He2xch4aju-x",
        "outputId": "5c9bd293-acaf-4ffd-9a62-2d39f2ad778a"
      },
      "execution_count": 12,
      "outputs": [
        {
          "output_type": "execute_result",
          "data": {
            "text/plain": [
              "'easy tyre selection process competitive pricing excellent fitting service'"
            ],
            "application/vnd.google.colaboratory.intrinsic+json": {
              "type": "string"
            }
          },
          "metadata": {},
          "execution_count": 12
        }
      ]
    },
    {
      "cell_type": "code",
      "source": [
        "df['subtheme_sentiments_pred'][1]"
      ],
      "metadata": {
        "colab": {
          "base_uri": "https://localhost:8080/"
        },
        "id": "NfHwV2D0j8v6",
        "outputId": "a8f054f2-b7f0-49db-c755-e1ad462bbc8c"
      },
      "execution_count": 14,
      "outputs": [
        {
          "output_type": "execute_result",
          "data": {
            "text/plain": [
              "[('competitive pricing', 'positive'), ('easy tyre selection', 'positive')]"
            ]
          },
          "metadata": {},
          "execution_count": 14
        }
      ]
    },
    {
      "cell_type": "code",
      "source": [
        "df['review_text'][5]"
      ],
      "metadata": {
        "colab": {
          "base_uri": "https://localhost:8080/",
          "height": 35
        },
        "id": "xdOXpLDmkdep",
        "outputId": "3acab775-ca38-4a99-8710-5999b4bbb612"
      },
      "execution_count": 17,
      "outputs": [
        {
          "output_type": "execute_result",
          "data": {
            "text/plain": [
              "'service excellent slight downside know exact time garage garage quick not delay'"
            ],
            "application/vnd.google.colaboratory.intrinsic+json": {
              "type": "string"
            }
          },
          "metadata": {},
          "execution_count": 17
        }
      ]
    },
    {
      "cell_type": "code",
      "source": [
        "df['subtheme_sentiments_pred'][5]"
      ],
      "metadata": {
        "colab": {
          "base_uri": "https://localhost:8080/"
        },
        "id": "Qf3lrTEMlBn9",
        "outputId": "d86c283a-cf27-413e-d77d-671e9ae6c8f9"
      },
      "execution_count": 18,
      "outputs": [
        {
          "output_type": "execute_result",
          "data": {
            "text/plain": [
              "[('service excellent slight downside', 'positive'),\n",
              " ('exact time garage garage', 'neutral')]"
            ]
          },
          "metadata": {},
          "execution_count": 18
        }
      ]
    },
    {
      "cell_type": "code",
      "source": [
        "df['review_text'][2]"
      ],
      "metadata": {
        "colab": {
          "base_uri": "https://localhost:8080/",
          "height": 35
        },
        "id": "biD4mykOlEUW",
        "outputId": "855a8207-dd9b-43bd-c69f-08399a59b280"
      },
      "execution_count": 19,
      "outputs": [
        {
          "output_type": "execute_result",
          "data": {
            "text/plain": [
              "'easy use good value money'"
            ],
            "application/vnd.google.colaboratory.intrinsic+json": {
              "type": "string"
            }
          },
          "metadata": {},
          "execution_count": 19
        }
      ]
    },
    {
      "cell_type": "code",
      "source": [
        "df['subtheme_sentiments_pred'][2]"
      ],
      "metadata": {
        "colab": {
          "base_uri": "https://localhost:8080/"
        },
        "id": "VHcvjJlZlXEL",
        "outputId": "088f3178-2699-41b8-d011-26bcc8278968"
      },
      "execution_count": 21,
      "outputs": [
        {
          "output_type": "execute_result",
          "data": {
            "text/plain": [
              "[('good value money', 'positive')]"
            ]
          },
          "metadata": {},
          "execution_count": 21
        }
      ]
    },
    {
      "cell_type": "code",
      "source": [
        "data=df[['review_text', 'subtheme_sentiments_pred']]"
      ],
      "metadata": {
        "id": "Cfs_IZM3vqyE"
      },
      "execution_count": 22,
      "outputs": []
    },
    {
      "cell_type": "code",
      "source": [
        "data"
      ],
      "metadata": {
        "colab": {
          "base_uri": "https://localhost:8080/",
          "height": 614
        },
        "id": "YSISdjsMvurS",
        "outputId": "b1083697-a852-4fcd-b414-bbdbf35d97af"
      },
      "execution_count": 23,
      "outputs": [
        {
          "output_type": "execute_result",
          "data": {
            "text/plain": [
              "                                                                                                                      review_text  \\\n",
              "0                   tire deliver garage choicethe garage notify deliver day time arrange garage go fitteda hassel free experience   \n",
              "1                                                       easy tyre selection process competitive pricing excellent fitting service   \n",
              "2                                                                                                       easy use good value money   \n",
              "3                                                                                                         easy convenient arrange   \n",
              "4                                                                       easy select tyre size arrange local fit price competitive   \n",
              "...                                                                                                                           ...   \n",
              "10127  order wrong tyre redact arrange collect supply correct tyre 2 day whilst refund difference straight away excellent service   \n",
              "10128                       good experience time redact harborne tyre efficient contact let know fit tyre overall good experience   \n",
              "10129       order tyre need line book specify time local garage tyre fit work time use redact good price tyre quick search online   \n",
              "10130                                                                           excellent service point order fit complaint thank   \n",
              "10131                                                                                               seamless manage end recommend   \n",
              "\n",
              "                                                                                                                                                               subtheme_sentiments_pred  \n",
              "0                                                  [(tire deliver garage choicethe garage notify deliver day time arrange garage, neutral), (fitteda hassel free experience, positive)]  \n",
              "1                                                                                                                    [(competitive pricing, positive), (easy tyre selection, positive)]  \n",
              "2                                                                                                                                                        [(good value money, positive)]  \n",
              "3                                                                                                                                                 [(easy convenient arrange, positive)]  \n",
              "4                                                                                                                           [(easy select tyre size arrange local fit price, positive)]  \n",
              "...                                                                                                                                                                                 ...  \n",
              "10127  [(correct tyre, neutral), (collect supply, neutral), (excellent service, positive), (2 day, neutral), (order wrong tyre redact arrange, negative), (refund difference, neutral)]  \n",
              "10128                                                                                                         [(good experience time redact harborne tyre efficient contact, positive)]  \n",
              "10129                                                                                        [(order tyre need line book, neutral), (good price tyre, positive), (order tyre, neutral)]  \n",
              "10130                                                                                                                   [(excellent service point order fit complaint thank, positive)]  \n",
              "10131                                                                                                                                                  [(seamless manage end, neutral)]  \n",
              "\n",
              "[10132 rows x 2 columns]"
            ],
            "text/html": [
              "\n",
              "  <div id=\"df-505b1491-f091-47de-934f-52cdd3fdc428\" class=\"colab-df-container\">\n",
              "    <div>\n",
              "<style scoped>\n",
              "    .dataframe tbody tr th:only-of-type {\n",
              "        vertical-align: middle;\n",
              "    }\n",
              "\n",
              "    .dataframe tbody tr th {\n",
              "        vertical-align: top;\n",
              "    }\n",
              "\n",
              "    .dataframe thead th {\n",
              "        text-align: right;\n",
              "    }\n",
              "</style>\n",
              "<table border=\"1\" class=\"dataframe\">\n",
              "  <thead>\n",
              "    <tr style=\"text-align: right;\">\n",
              "      <th></th>\n",
              "      <th>review_text</th>\n",
              "      <th>subtheme_sentiments_pred</th>\n",
              "    </tr>\n",
              "  </thead>\n",
              "  <tbody>\n",
              "    <tr>\n",
              "      <th>0</th>\n",
              "      <td>tire deliver garage choicethe garage notify deliver day time arrange garage go fitteda hassel free experience</td>\n",
              "      <td>[(tire deliver garage choicethe garage notify deliver day time arrange garage, neutral), (fitteda hassel free experience, positive)]</td>\n",
              "    </tr>\n",
              "    <tr>\n",
              "      <th>1</th>\n",
              "      <td>easy tyre selection process competitive pricing excellent fitting service</td>\n",
              "      <td>[(competitive pricing, positive), (easy tyre selection, positive)]</td>\n",
              "    </tr>\n",
              "    <tr>\n",
              "      <th>2</th>\n",
              "      <td>easy use good value money</td>\n",
              "      <td>[(good value money, positive)]</td>\n",
              "    </tr>\n",
              "    <tr>\n",
              "      <th>3</th>\n",
              "      <td>easy convenient arrange</td>\n",
              "      <td>[(easy convenient arrange, positive)]</td>\n",
              "    </tr>\n",
              "    <tr>\n",
              "      <th>4</th>\n",
              "      <td>easy select tyre size arrange local fit price competitive</td>\n",
              "      <td>[(easy select tyre size arrange local fit price, positive)]</td>\n",
              "    </tr>\n",
              "    <tr>\n",
              "      <th>...</th>\n",
              "      <td>...</td>\n",
              "      <td>...</td>\n",
              "    </tr>\n",
              "    <tr>\n",
              "      <th>10127</th>\n",
              "      <td>order wrong tyre redact arrange collect supply correct tyre 2 day whilst refund difference straight away excellent service</td>\n",
              "      <td>[(correct tyre, neutral), (collect supply, neutral), (excellent service, positive), (2 day, neutral), (order wrong tyre redact arrange, negative), (refund difference, neutral)]</td>\n",
              "    </tr>\n",
              "    <tr>\n",
              "      <th>10128</th>\n",
              "      <td>good experience time redact harborne tyre efficient contact let know fit tyre overall good experience</td>\n",
              "      <td>[(good experience time redact harborne tyre efficient contact, positive)]</td>\n",
              "    </tr>\n",
              "    <tr>\n",
              "      <th>10129</th>\n",
              "      <td>order tyre need line book specify time local garage tyre fit work time use redact good price tyre quick search online</td>\n",
              "      <td>[(order tyre need line book, neutral), (good price tyre, positive), (order tyre, neutral)]</td>\n",
              "    </tr>\n",
              "    <tr>\n",
              "      <th>10130</th>\n",
              "      <td>excellent service point order fit complaint thank</td>\n",
              "      <td>[(excellent service point order fit complaint thank, positive)]</td>\n",
              "    </tr>\n",
              "    <tr>\n",
              "      <th>10131</th>\n",
              "      <td>seamless manage end recommend</td>\n",
              "      <td>[(seamless manage end, neutral)]</td>\n",
              "    </tr>\n",
              "  </tbody>\n",
              "</table>\n",
              "<p>10132 rows × 2 columns</p>\n",
              "</div>\n",
              "    <div class=\"colab-df-buttons\">\n",
              "\n",
              "  <div class=\"colab-df-container\">\n",
              "    <button class=\"colab-df-convert\" onclick=\"convertToInteractive('df-505b1491-f091-47de-934f-52cdd3fdc428')\"\n",
              "            title=\"Convert this dataframe to an interactive table.\"\n",
              "            style=\"display:none;\">\n",
              "\n",
              "  <svg xmlns=\"http://www.w3.org/2000/svg\" height=\"24px\" viewBox=\"0 -960 960 960\">\n",
              "    <path d=\"M120-120v-720h720v720H120Zm60-500h600v-160H180v160Zm220 220h160v-160H400v160Zm0 220h160v-160H400v160ZM180-400h160v-160H180v160Zm440 0h160v-160H620v160ZM180-180h160v-160H180v160Zm440 0h160v-160H620v160Z\"/>\n",
              "  </svg>\n",
              "    </button>\n",
              "\n",
              "  <style>\n",
              "    .colab-df-container {\n",
              "      display:flex;\n",
              "      gap: 12px;\n",
              "    }\n",
              "\n",
              "    .colab-df-convert {\n",
              "      background-color: #E8F0FE;\n",
              "      border: none;\n",
              "      border-radius: 50%;\n",
              "      cursor: pointer;\n",
              "      display: none;\n",
              "      fill: #1967D2;\n",
              "      height: 32px;\n",
              "      padding: 0 0 0 0;\n",
              "      width: 32px;\n",
              "    }\n",
              "\n",
              "    .colab-df-convert:hover {\n",
              "      background-color: #E2EBFA;\n",
              "      box-shadow: 0px 1px 2px rgba(60, 64, 67, 0.3), 0px 1px 3px 1px rgba(60, 64, 67, 0.15);\n",
              "      fill: #174EA6;\n",
              "    }\n",
              "\n",
              "    .colab-df-buttons div {\n",
              "      margin-bottom: 4px;\n",
              "    }\n",
              "\n",
              "    [theme=dark] .colab-df-convert {\n",
              "      background-color: #3B4455;\n",
              "      fill: #D2E3FC;\n",
              "    }\n",
              "\n",
              "    [theme=dark] .colab-df-convert:hover {\n",
              "      background-color: #434B5C;\n",
              "      box-shadow: 0px 1px 3px 1px rgba(0, 0, 0, 0.15);\n",
              "      filter: drop-shadow(0px 1px 2px rgba(0, 0, 0, 0.3));\n",
              "      fill: #FFFFFF;\n",
              "    }\n",
              "  </style>\n",
              "\n",
              "    <script>\n",
              "      const buttonEl =\n",
              "        document.querySelector('#df-505b1491-f091-47de-934f-52cdd3fdc428 button.colab-df-convert');\n",
              "      buttonEl.style.display =\n",
              "        google.colab.kernel.accessAllowed ? 'block' : 'none';\n",
              "\n",
              "      async function convertToInteractive(key) {\n",
              "        const element = document.querySelector('#df-505b1491-f091-47de-934f-52cdd3fdc428');\n",
              "        const dataTable =\n",
              "          await google.colab.kernel.invokeFunction('convertToInteractive',\n",
              "                                                    [key], {});\n",
              "        if (!dataTable) return;\n",
              "\n",
              "        const docLinkHtml = 'Like what you see? Visit the ' +\n",
              "          '<a target=\"_blank\" href=https://colab.research.google.com/notebooks/data_table.ipynb>data table notebook</a>'\n",
              "          + ' to learn more about interactive tables.';\n",
              "        element.innerHTML = '';\n",
              "        dataTable['output_type'] = 'display_data';\n",
              "        await google.colab.output.renderOutput(dataTable, element);\n",
              "        const docLink = document.createElement('div');\n",
              "        docLink.innerHTML = docLinkHtml;\n",
              "        element.appendChild(docLink);\n",
              "      }\n",
              "    </script>\n",
              "  </div>\n",
              "\n",
              "\n",
              "<div id=\"df-9ebb79e6-ac15-43c6-b2a8-05e902141414\">\n",
              "  <button class=\"colab-df-quickchart\" onclick=\"quickchart('df-9ebb79e6-ac15-43c6-b2a8-05e902141414')\"\n",
              "            title=\"Suggest charts\"\n",
              "            style=\"display:none;\">\n",
              "\n",
              "<svg xmlns=\"http://www.w3.org/2000/svg\" height=\"24px\"viewBox=\"0 0 24 24\"\n",
              "     width=\"24px\">\n",
              "    <g>\n",
              "        <path d=\"M19 3H5c-1.1 0-2 .9-2 2v14c0 1.1.9 2 2 2h14c1.1 0 2-.9 2-2V5c0-1.1-.9-2-2-2zM9 17H7v-7h2v7zm4 0h-2V7h2v10zm4 0h-2v-4h2v4z\"/>\n",
              "    </g>\n",
              "</svg>\n",
              "  </button>\n",
              "\n",
              "<style>\n",
              "  .colab-df-quickchart {\n",
              "      --bg-color: #E8F0FE;\n",
              "      --fill-color: #1967D2;\n",
              "      --hover-bg-color: #E2EBFA;\n",
              "      --hover-fill-color: #174EA6;\n",
              "      --disabled-fill-color: #AAA;\n",
              "      --disabled-bg-color: #DDD;\n",
              "  }\n",
              "\n",
              "  [theme=dark] .colab-df-quickchart {\n",
              "      --bg-color: #3B4455;\n",
              "      --fill-color: #D2E3FC;\n",
              "      --hover-bg-color: #434B5C;\n",
              "      --hover-fill-color: #FFFFFF;\n",
              "      --disabled-bg-color: #3B4455;\n",
              "      --disabled-fill-color: #666;\n",
              "  }\n",
              "\n",
              "  .colab-df-quickchart {\n",
              "    background-color: var(--bg-color);\n",
              "    border: none;\n",
              "    border-radius: 50%;\n",
              "    cursor: pointer;\n",
              "    display: none;\n",
              "    fill: var(--fill-color);\n",
              "    height: 32px;\n",
              "    padding: 0;\n",
              "    width: 32px;\n",
              "  }\n",
              "\n",
              "  .colab-df-quickchart:hover {\n",
              "    background-color: var(--hover-bg-color);\n",
              "    box-shadow: 0 1px 2px rgba(60, 64, 67, 0.3), 0 1px 3px 1px rgba(60, 64, 67, 0.15);\n",
              "    fill: var(--button-hover-fill-color);\n",
              "  }\n",
              "\n",
              "  .colab-df-quickchart-complete:disabled,\n",
              "  .colab-df-quickchart-complete:disabled:hover {\n",
              "    background-color: var(--disabled-bg-color);\n",
              "    fill: var(--disabled-fill-color);\n",
              "    box-shadow: none;\n",
              "  }\n",
              "\n",
              "  .colab-df-spinner {\n",
              "    border: 2px solid var(--fill-color);\n",
              "    border-color: transparent;\n",
              "    border-bottom-color: var(--fill-color);\n",
              "    animation:\n",
              "      spin 1s steps(1) infinite;\n",
              "  }\n",
              "\n",
              "  @keyframes spin {\n",
              "    0% {\n",
              "      border-color: transparent;\n",
              "      border-bottom-color: var(--fill-color);\n",
              "      border-left-color: var(--fill-color);\n",
              "    }\n",
              "    20% {\n",
              "      border-color: transparent;\n",
              "      border-left-color: var(--fill-color);\n",
              "      border-top-color: var(--fill-color);\n",
              "    }\n",
              "    30% {\n",
              "      border-color: transparent;\n",
              "      border-left-color: var(--fill-color);\n",
              "      border-top-color: var(--fill-color);\n",
              "      border-right-color: var(--fill-color);\n",
              "    }\n",
              "    40% {\n",
              "      border-color: transparent;\n",
              "      border-right-color: var(--fill-color);\n",
              "      border-top-color: var(--fill-color);\n",
              "    }\n",
              "    60% {\n",
              "      border-color: transparent;\n",
              "      border-right-color: var(--fill-color);\n",
              "    }\n",
              "    80% {\n",
              "      border-color: transparent;\n",
              "      border-right-color: var(--fill-color);\n",
              "      border-bottom-color: var(--fill-color);\n",
              "    }\n",
              "    90% {\n",
              "      border-color: transparent;\n",
              "      border-bottom-color: var(--fill-color);\n",
              "    }\n",
              "  }\n",
              "</style>\n",
              "\n",
              "  <script>\n",
              "    async function quickchart(key) {\n",
              "      const quickchartButtonEl =\n",
              "        document.querySelector('#' + key + ' button');\n",
              "      quickchartButtonEl.disabled = true;  // To prevent multiple clicks.\n",
              "      quickchartButtonEl.classList.add('colab-df-spinner');\n",
              "      try {\n",
              "        const charts = await google.colab.kernel.invokeFunction(\n",
              "            'suggestCharts', [key], {});\n",
              "      } catch (error) {\n",
              "        console.error('Error during call to suggestCharts:', error);\n",
              "      }\n",
              "      quickchartButtonEl.classList.remove('colab-df-spinner');\n",
              "      quickchartButtonEl.classList.add('colab-df-quickchart-complete');\n",
              "    }\n",
              "    (() => {\n",
              "      let quickchartButtonEl =\n",
              "        document.querySelector('#df-9ebb79e6-ac15-43c6-b2a8-05e902141414 button');\n",
              "      quickchartButtonEl.style.display =\n",
              "        google.colab.kernel.accessAllowed ? 'block' : 'none';\n",
              "    })();\n",
              "  </script>\n",
              "</div>\n",
              "\n",
              "  <div id=\"id_fa7343ea-a187-4504-8d77-cb66f6e4f85d\">\n",
              "    <style>\n",
              "      .colab-df-generate {\n",
              "        background-color: #E8F0FE;\n",
              "        border: none;\n",
              "        border-radius: 50%;\n",
              "        cursor: pointer;\n",
              "        display: none;\n",
              "        fill: #1967D2;\n",
              "        height: 32px;\n",
              "        padding: 0 0 0 0;\n",
              "        width: 32px;\n",
              "      }\n",
              "\n",
              "      .colab-df-generate:hover {\n",
              "        background-color: #E2EBFA;\n",
              "        box-shadow: 0px 1px 2px rgba(60, 64, 67, 0.3), 0px 1px 3px 1px rgba(60, 64, 67, 0.15);\n",
              "        fill: #174EA6;\n",
              "      }\n",
              "\n",
              "      [theme=dark] .colab-df-generate {\n",
              "        background-color: #3B4455;\n",
              "        fill: #D2E3FC;\n",
              "      }\n",
              "\n",
              "      [theme=dark] .colab-df-generate:hover {\n",
              "        background-color: #434B5C;\n",
              "        box-shadow: 0px 1px 3px 1px rgba(0, 0, 0, 0.15);\n",
              "        filter: drop-shadow(0px 1px 2px rgba(0, 0, 0, 0.3));\n",
              "        fill: #FFFFFF;\n",
              "      }\n",
              "    </style>\n",
              "    <button class=\"colab-df-generate\" onclick=\"generateWithVariable('data')\"\n",
              "            title=\"Generate code using this dataframe.\"\n",
              "            style=\"display:none;\">\n",
              "\n",
              "  <svg xmlns=\"http://www.w3.org/2000/svg\" height=\"24px\"viewBox=\"0 0 24 24\"\n",
              "       width=\"24px\">\n",
              "    <path d=\"M7,19H8.4L18.45,9,17,7.55,7,17.6ZM5,21V16.75L18.45,3.32a2,2,0,0,1,2.83,0l1.4,1.43a1.91,1.91,0,0,1,.58,1.4,1.91,1.91,0,0,1-.58,1.4L9.25,21ZM18.45,9,17,7.55Zm-12,3A5.31,5.31,0,0,0,4.9,8.1,5.31,5.31,0,0,0,1,6.5,5.31,5.31,0,0,0,4.9,4.9,5.31,5.31,0,0,0,6.5,1,5.31,5.31,0,0,0,8.1,4.9,5.31,5.31,0,0,0,12,6.5,5.46,5.46,0,0,0,6.5,12Z\"/>\n",
              "  </svg>\n",
              "    </button>\n",
              "    <script>\n",
              "      (() => {\n",
              "      const buttonEl =\n",
              "        document.querySelector('#id_fa7343ea-a187-4504-8d77-cb66f6e4f85d button.colab-df-generate');\n",
              "      buttonEl.style.display =\n",
              "        google.colab.kernel.accessAllowed ? 'block' : 'none';\n",
              "\n",
              "      buttonEl.onclick = () => {\n",
              "        google.colab.notebook.generateWithVariable('data');\n",
              "      }\n",
              "      })();\n",
              "    </script>\n",
              "  </div>\n",
              "\n",
              "    </div>\n",
              "  </div>\n"
            ],
            "application/vnd.google.colaboratory.intrinsic+json": {
              "type": "dataframe",
              "variable_name": "data",
              "summary": "{\n  \"name\": \"data\",\n  \"rows\": 10132,\n  \"fields\": [\n    {\n      \"column\": \"review_text\",\n      \"properties\": {\n        \"dtype\": \"string\",\n        \"num_unique_values\": 9626,\n        \"samples\": [\n          \"second time redact time appointment reschedule afternoon arrange time work etc service mean hassle shop tyre instead create hassle\",\n          \"please straightforward online ordering payment technician call ahead advise expect arrival time fitting carry effectively efficientlyrecommende use\",\n          \"great price choice local garage fit tyre   like\"\n        ],\n        \"semantic_type\": \"\",\n        \"description\": \"\"\n      }\n    },\n    {\n      \"column\": \"subtheme_sentiments_pred\",\n      \"properties\": {\n        \"dtype\": \"object\",\n        \"semantic_type\": \"\",\n        \"description\": \"\"\n      }\n    }\n  ]\n}"
            }
          },
          "metadata": {},
          "execution_count": 23
        }
      ]
    },
    {
      "cell_type": "code",
      "source": [
        "file_path = 'output_dataset.csv'\n",
        "data.to_csv(file_path, index=False)"
      ],
      "metadata": {
        "id": "b_Q6QmxKvwCF"
      },
      "execution_count": 26,
      "outputs": []
    },
    {
      "cell_type": "code",
      "source": [],
      "metadata": {
        "id": "IzPykXgEwQ_V"
      },
      "execution_count": null,
      "outputs": []
    }
  ]
}